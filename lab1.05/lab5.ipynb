{
 "cells": [
  {
   "cell_type": "code",
   "execution_count": 1,
   "metadata": {},
   "outputs": [],
   "source": [
    "import pandas as pd \n",
    "import matplotlib.pyplot as plt \n",
    "from sklearn.linear_model import LinearRegression\n",
    "import numpy as np"
   ]
  },
  {
   "cell_type": "code",
   "execution_count": 2,
   "metadata": {},
   "outputs": [
    {
     "data": {
      "text/html": [
       "<div>\n",
       "<style scoped>\n",
       "    .dataframe tbody tr th:only-of-type {\n",
       "        vertical-align: middle;\n",
       "    }\n",
       "\n",
       "    .dataframe tbody tr th {\n",
       "        vertical-align: top;\n",
       "    }\n",
       "\n",
       "    .dataframe thead th {\n",
       "        text-align: right;\n",
       "    }\n",
       "</style>\n",
       "<table border=\"1\" class=\"dataframe\">\n",
       "  <thead>\n",
       "    <tr style=\"text-align: right;\">\n",
       "      <th></th>\n",
       "      <th>angle</th>\n",
       "      <th>t_1</th>\n",
       "      <th>t_2</th>\n",
       "      <th>t_3</th>\n",
       "    </tr>\n",
       "  </thead>\n",
       "  <tbody>\n",
       "    <tr>\n",
       "      <th>0</th>\n",
       "      <td>25</td>\n",
       "      <td>42.44</td>\n",
       "      <td>40.73</td>\n",
       "      <td>50.51</td>\n",
       "    </tr>\n",
       "    <tr>\n",
       "      <th>1</th>\n",
       "      <td>20</td>\n",
       "      <td>95.99</td>\n",
       "      <td>97.94</td>\n",
       "      <td>105.49</td>\n",
       "    </tr>\n",
       "    <tr>\n",
       "      <th>2</th>\n",
       "      <td>15</td>\n",
       "      <td>159.28</td>\n",
       "      <td>157.68</td>\n",
       "      <td>170.66</td>\n",
       "    </tr>\n",
       "    <tr>\n",
       "      <th>3</th>\n",
       "      <td>10</td>\n",
       "      <td>235.70</td>\n",
       "      <td>233.15</td>\n",
       "      <td>242.23</td>\n",
       "    </tr>\n",
       "    <tr>\n",
       "      <th>4</th>\n",
       "      <td>5</td>\n",
       "      <td>317.74</td>\n",
       "      <td>314.76</td>\n",
       "      <td>320.43</td>\n",
       "    </tr>\n",
       "  </tbody>\n",
       "</table>\n",
       "</div>"
      ],
      "text/plain": [
       "   angle     t_1     t_2     t_3\n",
       "0     25   42.44   40.73   50.51\n",
       "1     20   95.99   97.94  105.49\n",
       "2     15  159.28  157.68  170.66\n",
       "3     10  235.70  233.15  242.23\n",
       "4      5  317.74  314.76  320.43"
      ]
     },
     "execution_count": 2,
     "metadata": {},
     "output_type": "execute_result"
    }
   ],
   "source": [
    "angles = pd.read_csv(\"angles.csv\")\n",
    "t3_10 = [16.82, 16.87, 16.75]\n",
    "t3_10_mean = sum(t3_10) / 3\n",
    "T3 = t3_10_mean / 10\n",
    "angles"
   ]
  },
  {
   "cell_type": "code",
   "execution_count": 3,
   "metadata": {},
   "outputs": [],
   "source": [
    "xy = pd.concat([angles[[\"angle\", f\"t_{e}\"]].rename(columns={\"angle\": \"y\", f\"t_{e}\": \"x\"}) for e in range(1, 4)])\n",
    "# xy.to_numpy()\n",
    "# plt.scatter(xy[\"x\"], xy[\"y\"])\n",
    "# plt"
   ]
  },
  {
   "cell_type": "code",
   "execution_count": 4,
   "metadata": {},
   "outputs": [
    {
     "data": {
      "text/plain": [
       "0.03512693256326928"
      ]
     },
     "execution_count": 4,
     "metadata": {},
     "output_type": "execute_result"
    }
   ],
   "source": [
    "# Ну вообще довольно сухое трение, на линию похоже \n",
    "reg = LinearRegression(fit_intercept=False).fit(xy[\"x\"].to_numpy().reshape((-1, 1)), (xy[\"y\"] - 30).to_numpy())\n",
    "slope = reg.coef_[0]\n",
    "# delta_phi = -slope / (angles[angles[\"angle\"] == 25].iloc[0, 1:4].mean() / T3) / 4\n",
    "delta_phi = -slope * T3 / 4\n",
    "delta_phi"
   ]
  },
  {
   "cell_type": "code",
   "execution_count": 5,
   "metadata": {},
   "outputs": [
    {
     "data": {
      "text/plain": [
       "<matplotlib.legend.Legend at 0x13e4b1f49d0>"
      ]
     },
     "execution_count": 5,
     "metadata": {},
     "output_type": "execute_result"
    },
    {
     "data": {
      "image/png": "[encoded data removed]",
      "text/plain": [
       "<Figure size 640x480 with 1 Axes>"
      ]
     },
     "metadata": {},
     "output_type": "display_data"
    }
   ],
   "source": [
    "plt.scatter(xy[\"x\"], xy[\"y\"], label=r\"$(t_i; A_i)$\")\n",
    "reg = LinearRegression().fit(xy[\"x\"].to_numpy().reshape((-1, 1)), (xy[\"y\"]).to_numpy())\n",
    "slope1, intercept1 = reg.coef_[0], reg.intercept_\n",
    "plt.plot(np.arange(0, 325, 0.1), np.arange(0, 325, 0.1) * slope1 + intercept1, color=\"darkblue\", label=r\"$A(t)$\")\n",
    "plt.yticks([5, 10, 15, 20, 25, 30])\n",
    "plt.xlabel(r\"$t$\" + \", с\")\n",
    "plt.ylabel(r\"$A$\" + r\"$^{\\circ}$\")\n",
    "plt.grid()\n",
    "plt.legend()"
   ]
  },
  {
   "cell_type": "code",
   "execution_count": 6,
   "metadata": {},
   "outputs": [
    {
     "data": {
      "text/plain": [
       "213.51138436273334"
      ]
     },
     "execution_count": 6,
     "metadata": {},
     "output_type": "execute_result"
    }
   ],
   "source": [
    "-30 / slope / T3"
   ]
  },
  {
   "cell_type": "code",
   "execution_count": 7,
   "metadata": {},
   "outputs": [
    {
     "data": {
      "text/html": [
       "<div>\n",
       "<style scoped>\n",
       "    .dataframe tbody tr th:only-of-type {\n",
       "        vertical-align: middle;\n",
       "    }\n",
       "\n",
       "    .dataframe tbody tr th {\n",
       "        vertical-align: top;\n",
       "    }\n",
       "\n",
       "    .dataframe thead th {\n",
       "        text-align: right;\n",
       "    }\n",
       "</style>\n",
       "<table border=\"1\" class=\"dataframe\">\n",
       "  <thead>\n",
       "    <tr style=\"text-align: right;\">\n",
       "      <th></th>\n",
       "      <th>t_1</th>\n",
       "      <th>t_2</th>\n",
       "      <th>t_3</th>\n",
       "    </tr>\n",
       "  </thead>\n",
       "  <tbody>\n",
       "    <tr>\n",
       "      <th>0</th>\n",
       "      <td>15.91</td>\n",
       "      <td>15.86</td>\n",
       "      <td>16.40</td>\n",
       "    </tr>\n",
       "    <tr>\n",
       "      <th>1</th>\n",
       "      <td>16.82</td>\n",
       "      <td>16.87</td>\n",
       "      <td>16.75</td>\n",
       "    </tr>\n",
       "    <tr>\n",
       "      <th>2</th>\n",
       "      <td>17.78</td>\n",
       "      <td>18.04</td>\n",
       "      <td>17.96</td>\n",
       "    </tr>\n",
       "    <tr>\n",
       "      <th>3</th>\n",
       "      <td>19.03</td>\n",
       "      <td>19.36</td>\n",
       "      <td>19.09</td>\n",
       "    </tr>\n",
       "    <tr>\n",
       "      <th>4</th>\n",
       "      <td>20.25</td>\n",
       "      <td>20.40</td>\n",
       "      <td>20.92</td>\n",
       "    </tr>\n",
       "    <tr>\n",
       "      <th>5</th>\n",
       "      <td>21.89</td>\n",
       "      <td>21.83</td>\n",
       "      <td>21.74</td>\n",
       "    </tr>\n",
       "  </tbody>\n",
       "</table>\n",
       "</div>"
      ],
      "text/plain": [
       "     t_1    t_2    t_3\n",
       "0  15.91  15.86  16.40\n",
       "1  16.82  16.87  16.75\n",
       "2  17.78  18.04  17.96\n",
       "3  19.03  19.36  19.09\n",
       "4  20.25  20.40  20.92\n",
       "5  21.89  21.83  21.74"
      ]
     },
     "execution_count": 7,
     "metadata": {},
     "output_type": "execute_result"
    }
   ],
   "source": [
    "weights = pd.read_csv(\"weights.csv\")\n",
    "weights"
   ]
  },
  {
   "cell_type": "code",
   "execution_count": 8,
   "metadata": {},
   "outputs": [
    {
     "data": {
      "text/plain": [
       "array([0.0320822, 0.0357542, 0.0404462, 0.0461582, 0.0528902, 0.0606422])"
      ]
     },
     "execution_count": 8,
     "metadata": {},
     "output_type": "execute_result"
    }
   ],
   "source": [
    "R_up = (57.5 + 40 / 2) / 1000\n",
    "R_side = np.array([(57.5 + e * 25 + 40 / 2) / 1000 for e in range(6)])\n",
    "R_down = (57.5 + 5 * 25 + 40 / 2) / 1000\n",
    "I_weights = 0.408 * (R_up ** 2 + 2 * R_side ** 2 + R_down ** 2)\n",
    "I = I_weights + 8 * 10 ** -3\n",
    "I"
   ]
  },
  {
   "cell_type": "code",
   "execution_count": 9,
   "metadata": {},
   "outputs": [
    {
     "name": "stdout",
     "output_type": "stream",
     "text": [
      "0.032\t0.036\t0.04\t0.046\t0.053\t0.061\n"
     ]
    }
   ],
   "source": [
    "print(*[round(i, 3) for i in I], sep=\"\\t\")"
   ]
  },
  {
   "cell_type": "code",
   "execution_count": 10,
   "metadata": {},
   "outputs": [
    {
     "data": {
      "text/plain": [
       "<matplotlib.legend.Legend at 0x13e4d486e90>"
      ]
     },
     "execution_count": 10,
     "metadata": {},
     "output_type": "execute_result"
    },
    {
     "data": {
      "image/png": "[encoded data removed]",
      "text/plain": [
       "<Figure size 640x480 with 1 Axes>"
      ]
     },
     "metadata": {},
     "output_type": "display_data"
    }
   ],
   "source": [
    "T_sq = (weights.mean(axis=1) / 10) ** 2\n",
    "\n",
    "reg = LinearRegression(fit_intercept=False).fit(I.reshape((-1, 1)), T_sq.to_numpy())\n",
    "\n",
    "slope = reg.coef_[0]\n",
    "\n",
    "plt.plot(np.arange(0.03, 0.062, 0.001), np.arange(0.03, 0.062, 0.001) * reg.coef_[0] + reg.intercept_, color=\"darkblue\", label=r\"$T^2(I)$\")\n",
    "plt.scatter(I, T_sq, label=r\"$(I_i; T^2_i)$\")\n",
    "plt.grid()\n",
    "plt.xlabel(r\"$I$\" + \", Н\" + r\"$\\cdot$\" + \"м\")\n",
    "plt.ylabel(r\"$T^2$\" + \", c\" + r\"$^2$\")\n",
    "plt.legend()"
   ]
  },
  {
   "cell_type": "code",
   "execution_count": 11,
   "metadata": {},
   "outputs": [],
   "source": [
    "l_theor = (R_down - R_up) / 4"
   ]
  },
  {
   "cell_type": "code",
   "execution_count": 12,
   "metadata": {},
   "outputs": [
    {
     "data": {
      "text/plain": [
       "0.03125"
      ]
     },
     "execution_count": 12,
     "metadata": {},
     "output_type": "execute_result"
    }
   ],
   "source": [
    "l_theor"
   ]
  },
  {
   "cell_type": "code",
   "execution_count": 13,
   "metadata": {},
   "outputs": [
    {
     "data": {
      "text/plain": [
       "0.05082077365958073"
      ]
     },
     "execution_count": 13,
     "metadata": {},
     "output_type": "execute_result"
    }
   ],
   "source": [
    "import math\n",
    "\n",
    "ml = 4 * math.pi ** 2 / 9.8 / slope \n",
    "ml"
   ]
  },
  {
   "cell_type": "code",
   "execution_count": 14,
   "metadata": {},
   "outputs": [
    {
     "data": {
      "text/plain": [
       "0    0.639996\n",
       "1    0.701736\n",
       "2    0.797747\n",
       "3    0.911292\n",
       "4    1.045592\n",
       "5    1.181887\n",
       "dtype: float64"
      ]
     },
     "execution_count": 14,
     "metadata": {},
     "output_type": "execute_result"
    }
   ],
   "source": [
    "l_adj_exp = T_sq * 9.8 / 4 / math.pi ** 2 \n",
    "l_adj_exp"
   ]
  },
  {
   "cell_type": "code",
   "execution_count": 15,
   "metadata": {},
   "outputs": [
    {
     "data": {
      "text/plain": [
       "array([0.4722, 0.5442, 0.6362, 0.7482, 0.8802, 1.0322])"
      ]
     },
     "execution_count": 15,
     "metadata": {},
     "output_type": "execute_result"
    }
   ],
   "source": [
    "l_adj_theor = (R_up ** 2 + 2 * R_side ** 2 + R_down ** 2) / (R_down - R_up)\n",
    "l_adj_theor"
   ]
  },
  {
   "cell_type": "code",
   "execution_count": 16,
   "metadata": {},
   "outputs": [
    {
     "name": "stdout",
     "output_type": "stream",
     "text": [
      "0.64\t0.7\t0.8\t0.91\t1.05\t1.18\n"
     ]
    }
   ],
   "source": [
    "print(*[round(i, 2) for i in l_adj_exp], sep=\"\\t\")"
   ]
  },
  {
   "cell_type": "code",
   "execution_count": 17,
   "metadata": {},
   "outputs": [
    {
     "name": "stdout",
     "output_type": "stream",
     "text": [
      "0.47\t0.54\t0.64\t0.75\t0.88\t1.03\n"
     ]
    }
   ],
   "source": [
    "print(*[round(i, 2) for i in l_adj_theor], sep=\"\\t\")"
   ]
  },
  {
   "cell_type": "code",
   "execution_count": 18,
   "metadata": {},
   "outputs": [
    {
     "data": {
      "text/plain": [
       "1.2416091949678443"
      ]
     },
     "execution_count": 18,
     "metadata": {},
     "output_type": "execute_result"
    }
   ],
   "source": [
    "(l_adj_exp / l_adj_theor).mean()"
   ]
  },
  {
   "cell_type": "code",
   "execution_count": null,
   "metadata": {},
   "outputs": [],
   "source": []
  }
 ],
 "metadata": {
  "kernelspec": {
   "display_name": "Python 3",
   "language": "python",
   "name": "python3"
  },
  "language_info": {
   "codemirror_mode": {
    "name": "ipython",
    "version": 3
   },
   "file_extension": ".py",
   "mimetype": "text/x-python",
   "name": "python",
   "nbconvert_exporter": "python",
   "pygments_lexer": "ipython3",
   "version": "3.11.4"
  }
 },
 "nbformat": 4,
 "nbformat_minor": 2
}
