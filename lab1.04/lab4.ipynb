{
 "cells": [
  {
   "cell_type": "code",
   "execution_count": 1,
   "metadata": {},
   "outputs": [],
   "source": [
    "import pandas as pd \n",
    "import numpy as np\n",
    "import matplotlib.pyplot as plt\n",
    "import scipy"
   ]
  },
  {
   "cell_type": "code",
   "execution_count": 2,
   "metadata": {},
   "outputs": [
    {
     "data": {
      "text/html": [
       "<div>\n",
       "<style scoped>\n",
       "    .dataframe tbody tr th:only-of-type {\n",
       "        vertical-align: middle;\n",
       "    }\n",
       "\n",
       "    .dataframe tbody tr th {\n",
       "        vertical-align: top;\n",
       "    }\n",
       "\n",
       "    .dataframe thead th {\n",
       "        text-align: right;\n",
       "    }\n",
       "</style>\n",
       "<table border=\"1\" class=\"dataframe\">\n",
       "  <thead>\n",
       "    <tr style=\"text-align: right;\">\n",
       "      <th></th>\n",
       "      <th>0</th>\n",
       "      <th>1</th>\n",
       "      <th>2</th>\n",
       "      <th>3</th>\n",
       "      <th>4</th>\n",
       "      <th>5</th>\n",
       "      <th>6</th>\n",
       "    </tr>\n",
       "  </thead>\n",
       "  <tbody>\n",
       "    <tr>\n",
       "      <th>0</th>\n",
       "      <td>1</td>\n",
       "      <td>5.84</td>\n",
       "      <td>4.97</td>\n",
       "      <td>5.83</td>\n",
       "      <td>6.66</td>\n",
       "      <td>7.98</td>\n",
       "      <td>8.31</td>\n",
       "    </tr>\n",
       "    <tr>\n",
       "      <th>1</th>\n",
       "      <td>1</td>\n",
       "      <td>4.63</td>\n",
       "      <td>5.20</td>\n",
       "      <td>6.23</td>\n",
       "      <td>6.82</td>\n",
       "      <td>7.68</td>\n",
       "      <td>8.76</td>\n",
       "    </tr>\n",
       "    <tr>\n",
       "      <th>2</th>\n",
       "      <td>1</td>\n",
       "      <td>4.38</td>\n",
       "      <td>4.57</td>\n",
       "      <td>6.31</td>\n",
       "      <td>6.79</td>\n",
       "      <td>7.45</td>\n",
       "      <td>8.78</td>\n",
       "    </tr>\n",
       "    <tr>\n",
       "      <th>3</th>\n",
       "      <td>2</td>\n",
       "      <td>3.58</td>\n",
       "      <td>3.70</td>\n",
       "      <td>4.58</td>\n",
       "      <td>4.68</td>\n",
       "      <td>5.56</td>\n",
       "      <td>6.65</td>\n",
       "    </tr>\n",
       "    <tr>\n",
       "      <th>4</th>\n",
       "      <td>2</td>\n",
       "      <td>3.35</td>\n",
       "      <td>3.70</td>\n",
       "      <td>4.48</td>\n",
       "      <td>4.85</td>\n",
       "      <td>6.20</td>\n",
       "      <td>6.48</td>\n",
       "    </tr>\n",
       "    <tr>\n",
       "      <th>5</th>\n",
       "      <td>2</td>\n",
       "      <td>3.38</td>\n",
       "      <td>3.90</td>\n",
       "      <td>4.36</td>\n",
       "      <td>5.20</td>\n",
       "      <td>5.69</td>\n",
       "      <td>6.28</td>\n",
       "    </tr>\n",
       "    <tr>\n",
       "      <th>6</th>\n",
       "      <td>3</td>\n",
       "      <td>3.01</td>\n",
       "      <td>3.52</td>\n",
       "      <td>3.56</td>\n",
       "      <td>4.20</td>\n",
       "      <td>5.33</td>\n",
       "      <td>5.51</td>\n",
       "    </tr>\n",
       "    <tr>\n",
       "      <th>7</th>\n",
       "      <td>3</td>\n",
       "      <td>2.75</td>\n",
       "      <td>3.28</td>\n",
       "      <td>3.74</td>\n",
       "      <td>4.18</td>\n",
       "      <td>5.21</td>\n",
       "      <td>5.32</td>\n",
       "    </tr>\n",
       "    <tr>\n",
       "      <th>8</th>\n",
       "      <td>3</td>\n",
       "      <td>2.85</td>\n",
       "      <td>3.20</td>\n",
       "      <td>4.19</td>\n",
       "      <td>4.45</td>\n",
       "      <td>5.23</td>\n",
       "      <td>5.55</td>\n",
       "    </tr>\n",
       "    <tr>\n",
       "      <th>9</th>\n",
       "      <td>4</td>\n",
       "      <td>2.41</td>\n",
       "      <td>2.76</td>\n",
       "      <td>3.14</td>\n",
       "      <td>3.64</td>\n",
       "      <td>4.28</td>\n",
       "      <td>4.53</td>\n",
       "    </tr>\n",
       "    <tr>\n",
       "      <th>10</th>\n",
       "      <td>4</td>\n",
       "      <td>2.48</td>\n",
       "      <td>2.75</td>\n",
       "      <td>3.01</td>\n",
       "      <td>3.63</td>\n",
       "      <td>4.71</td>\n",
       "      <td>5.08</td>\n",
       "    </tr>\n",
       "    <tr>\n",
       "      <th>11</th>\n",
       "      <td>4</td>\n",
       "      <td>2.28</td>\n",
       "      <td>2.83</td>\n",
       "      <td>3.26</td>\n",
       "      <td>3.58</td>\n",
       "      <td>4.33</td>\n",
       "      <td>4.94</td>\n",
       "    </tr>\n",
       "  </tbody>\n",
       "</table>\n",
       "</div>"
      ],
      "text/plain": [
       "    0     1     2     3     4     5     6\n",
       "0   1  5.84  4.97  5.83  6.66  7.98  8.31\n",
       "1   1  4.63  5.20  6.23  6.82  7.68  8.76\n",
       "2   1  4.38  4.57  6.31  6.79  7.45  8.78\n",
       "3   2  3.58  3.70  4.58  4.68  5.56  6.65\n",
       "4   2  3.35  3.70  4.48  4.85  6.20  6.48\n",
       "5   2  3.38  3.90  4.36  5.20  5.69  6.28\n",
       "6   3  3.01  3.52  3.56  4.20  5.33  5.51\n",
       "7   3  2.75  3.28  3.74  4.18  5.21  5.32\n",
       "8   3  2.85  3.20  4.19  4.45  5.23  5.55\n",
       "9   4  2.41  2.76  3.14  3.64  4.28  4.53\n",
       "10  4  2.48  2.75  3.01  3.63  4.71  5.08\n",
       "11  4  2.28  2.83  3.26  3.58  4.33  4.94"
      ]
     },
     "execution_count": 2,
     "metadata": {},
     "output_type": "execute_result"
    }
   ],
   "source": [
    "df = pd.read_csv(\"lab4.csv\", header=None)\n",
    "df"
   ]
  },
  {
   "cell_type": "code",
   "execution_count": 3,
   "metadata": {},
   "outputs": [],
   "source": [
    "h = 0.7\n",
    "dh = 0.0005\n",
    "d = 0.046\n",
    "dd = 0.0005\n",
    "m = 0.22\n",
    "dm = 0.0005\n",
    "m0 = 0.047\n",
    "dm0 = 0.0005\n",
    "g = 9.8\n",
    "l1 = 0.057\n",
    "l0 = 0.025\n",
    "b = 0.040"
   ]
  },
  {
   "cell_type": "code",
   "execution_count": 4,
   "metadata": {},
   "outputs": [
    {
     "name": "stdout",
     "output_type": "stream",
     "text": [
      "4.95\t0.057\t2.48\t0.060\n",
      "4.91\t0.058\t2.52\t0.060\n",
      "6.12\t0.037\t1.61\t0.060\n",
      "6.76\t0.031\t1.35\t0.060\n",
      "7.70\t0.024\t1.04\t0.060\n",
      "8.62\t0.019\t0.83\t0.060\n",
      "3.44\t0.118\t5.13\t0.108\n",
      "3.77\t0.099\t4.30\t0.109\n",
      "4.47\t0.070\t3.04\t0.109\n",
      "4.91\t0.058\t2.52\t0.109\n",
      "5.82\t0.041\t1.78\t0.109\n",
      "6.47\t0.033\t1.43\t0.109\n",
      "2.87\t0.170\t7.39\t0.157\n",
      "3.33\t0.126\t5.48\t0.157\n",
      "3.83\t0.095\t4.13\t0.158\n",
      "4.28\t0.076\t3.30\t0.158\n",
      "5.26\t0.051\t2.22\t0.159\n",
      "5.46\t0.047\t2.04\t0.159\n",
      "2.39\t0.245\t10.65\t0.204\n",
      "2.78\t0.181\t7.87\t0.205\n",
      "3.14\t0.142\t6.17\t0.206\n",
      "3.62\t0.107\t4.65\t0.207\n",
      "4.44\t0.071\t3.09\t0.207\n",
      "4.85\t0.060\t2.61\t0.208\n"
     ]
    }
   ],
   "source": [
    "x = {e: [] for e in range(1, 7)}\n",
    "y = {e: [] for e in range(1, 7)}\n",
    "c = 0\n",
    "for e in range(1, 5):\n",
    "    for j in range(1, 7):\n",
    "        t_mean = np.round(df[df[0] == e][j].mean(), 2)\n",
    "        a = round(2 * h / t_mean ** 2, 3)\n",
    "        epsilon = round(2 * a / d, 2)\n",
    "        M = round((m0 + e * m) * d * (g - a) / 2, 3)\n",
    "        x[j].append(epsilon)\n",
    "        y[j].append(M)\n",
    "        # print(f\"{t_mean:.2f}\")\n",
    "        print(f\"{t_mean:.2f}\\t{a:.3f}\\t{epsilon:.2f}\\t{M:.3f}\")\n",
    "        # if c < 5:\n",
    "        #     print(f\"{M:.3f}\", end=\"\\t\")\n",
    "        # else:\n",
    "        #     print(f\"{M:.3f}\")\n",
    "        # c = (c + 1) % 6"
   ]
  },
  {
   "cell_type": "code",
   "execution_count": 5,
   "metadata": {},
   "outputs": [
    {
     "data": {
      "text/plain": [
       "Text(0, 0.5, 'M, $H\\\\cdot M$')"
      ]
     },
     "execution_count": 5,
     "metadata": {},
     "output_type": "execute_result"
    },
    {
     "data": {
      "image/png": "[encoded data removed]",
      "text/plain": [
       "<Figure size 640x480 with 1 Axes>"
      ]
     },
     "metadata": {},
     "output_type": "display_data"
    }
   ],
   "source": [
    "Is = []\n",
    "for e in range(1, 7):\n",
    "    if e != 1:\n",
    "        plt.scatter(x[e], y[e])\n",
    "    else:\n",
    "        plt.scatter(x[e], y[e])\n",
    "        plt.errorbar(x[e], y[e], [0] + [0.001] + [0] * (len(y[e]) - 2), [0] + [0.836] + [0] * (len(x[e]) - 2),\n",
    "                     fmt=\"none\")\n",
    "    I, M_fr, *_ = scipy.stats.linregress(x[e], y[e])\n",
    "    Is.append(I)\n",
    "    x1 = np.arange(0, x[e][-1], 0.01)\n",
    "    plt.plot(x1, x1 * I + M_fr, label=f\"Риска {e}\")\n",
    "plt.legend()\n",
    "plt.xlabel(r\"$\\varepsilon, с^{-2}$\")\n",
    "plt.ylabel(r\"M, $H\\cdot M$\")"
   ]
  },
  {
   "cell_type": "code",
   "execution_count": 6,
   "metadata": {},
   "outputs": [
    {
     "data": {
      "text/plain": [
       "[0.01786326275235954,\n",
       " 0.02755161675377761,\n",
       " 0.032428415152642914,\n",
       " 0.045448387264863735,\n",
       " 0.07339796346959393,\n",
       " 0.08301162117510838]"
      ]
     },
     "execution_count": 6,
     "metadata": {},
     "output_type": "execute_result"
    }
   ],
   "source": [
    "Is"
   ]
  },
  {
   "cell_type": "code",
   "execution_count": 7,
   "metadata": {},
   "outputs": [
    {
     "name": "stdout",
     "output_type": "stream",
     "text": [
      "0.4906057653784406 0.004850300672683369\n"
     ]
    },
    {
     "data": {
      "image/png": "[encoded data removed]",
      "text/plain": [
       "<Figure size 640x480 with 1 Axes>"
      ]
     },
     "metadata": {},
     "output_type": "display_data"
    }
   ],
   "source": [
    "R_sq_s = []\n",
    "TABLE = []\n",
    "for e in range(1, 7):\n",
    "    R = l1 + (e - 1) * l0 + b / 2\n",
    "    R_sq_s.append(R ** 2)\n",
    "    TABLE.append((R, R**2))\n",
    "plt.scatter(R_sq_s, Is)\n",
    "m_ut_4, I0, *_ = scipy.stats.linregress(R_sq_s, Is)\n",
    "x1 = np.arange(0, R_sq_s[-1], 0.01)\n",
    "plt.plot(x1, m_ut_4 * x1 + I0, label=r\"$I=I_0+4m_{ут}R^2$\")\n",
    "plt.xlabel(r\"$R^2, м^2$\")\n",
    "plt.ylabel(r\"$I, кг\\cdot м^2$\")\n",
    "plt.legend()\n",
    "print(m_ut_4 / 4, I0)\n",
    "m_ut = m_ut_4 / 4"
   ]
  },
  {
   "cell_type": "code",
   "execution_count": 8,
   "metadata": {},
   "outputs": [
    {
     "name": "stdout",
     "output_type": "stream",
     "text": [
      "0.077\t0.102\t0.127\t0.152\t0.177\t0.202\n",
      "0.005929\t0.010404\t0.016129\t0.023104\t0.031329\t0.040804\n",
      "0.018\t0.028\t0.032\t0.045\t0.073\t0.083\n"
     ]
    }
   ],
   "source": [
    "RT, R2T, IT = np.column_stack((TABLE, Is)).T\n",
    "print(\"\\t\".join([f\"{round(x, 3):.3f}\" for x in RT]))\n",
    "print(\"\\t\".join([f\"{round(x, 6):.6f}\" for x in R2T]))\n",
    "print(\"\\t\".join([f\"{round(x, 3):.3f}\" for x in IT]))"
   ]
  },
  {
   "cell_type": "code",
   "execution_count": 9,
   "metadata": {},
   "outputs": [
    {
     "data": {
      "text/plain": [
       "(0.07218802609235907, 0.310408512197144, 0.3, 3.436666666666666)"
      ]
     },
     "execution_count": 9,
     "metadata": {},
     "output_type": "execute_result"
    }
   ],
   "source": [
    "sample = df[df[0] == 2][1]\n",
    "t_mean = sample.mean()\n",
    "sigma_t = (sum((sample - t_mean) ** 2) / 3 / 2) ** 0.5\n",
    "student_coef = 4.3\n",
    "trust_interval = student_coef * sigma_t\n",
    "t_inst_err = 0.005\n",
    "t_abs_err = round((trust_interval ** 2 + (2 / 3 * t_inst_err) ** 2) ** 0.5, 1)\n",
    "sigma_t, trust_interval, t_abs_err, t_mean"
   ]
  },
  {
   "cell_type": "code",
   "execution_count": 10,
   "metadata": {},
   "outputs": [
    {
     "data": {
      "text/plain": [
       "(0.119, 5.174, 0.108)"
      ]
     },
     "execution_count": 10,
     "metadata": {},
     "output_type": "execute_result"
    }
   ],
   "source": [
    "e = 2\n",
    "a = round(2 * h / t_mean ** 2, 3)\n",
    "epsilon = round(2 * a / d, 3)\n",
    "M = round((m0 + e * m) * d * (g - a) / 2, 3)\n",
    "a, epsilon, M"
   ]
  },
  {
   "cell_type": "code",
   "execution_count": 11,
   "metadata": {},
   "outputs": [],
   "source": [
    "a_err = ((-4 * h * t_abs_err / t_mean ** 3) ** 2 + (2 * (2 / 3 * dh) / t_mean ** 2)) ** 0.5\n",
    "epsilon_err = ((2 * a_err / d) ** 2 + (-2 * a / d ** 2 * (2 / 3 * dd))) ** 0.5\n",
    "M_err = (((m0 + e * m) * d * (g - a) / 2 * (2 / 3 * ((e + 1) * dm))) ** 2 + ((m0 + e * m) * (g - a) / 2 * (2 / 3 * dd)) ** 2 + (- (m0 + e * m) * d / 2 * a_err) ** 2) ** 0.5"
   ]
  },
  {
   "cell_type": "code",
   "execution_count": 12,
   "metadata": {},
   "outputs": [
    {
     "data": {
      "text/plain": [
       "(0.119, 0.022016637449904397, 0.022)"
      ]
     },
     "execution_count": 12,
     "metadata": {},
     "output_type": "execute_result"
    }
   ],
   "source": [
    "a, a_err, round(a_err, 3)"
   ]
  },
  {
   "cell_type": "code",
   "execution_count": 13,
   "metadata": {},
   "outputs": [
    {
     "data": {
      "text/plain": [
       "(5.174, 0.9374572365971646, 0.9)"
      ]
     },
     "execution_count": 13,
     "metadata": {},
     "output_type": "execute_result"
    }
   ],
   "source": [
    "epsilon, epsilon_err, round(epsilon_err, 1)"
   ]
  },
  {
   "cell_type": "code",
   "execution_count": 14,
   "metadata": {},
   "outputs": [
    {
     "data": {
      "text/plain": [
       "(0.108, 0.0008306718987048692, 0.001)"
      ]
     },
     "execution_count": 14,
     "metadata": {},
     "output_type": "execute_result"
    }
   ],
   "source": [
    "M, M_err, round(M_err, 3)"
   ]
  },
  {
   "cell_type": "code",
   "execution_count": 15,
   "metadata": {},
   "outputs": [],
   "source": [
    "x = np.array(R_sq_s)\n",
    "y = np.array(Is)"
   ]
  },
  {
   "cell_type": "code",
   "execution_count": 16,
   "metadata": {},
   "outputs": [],
   "source": [
    "x_mean = x.mean()\n",
    "y_mean = y.mean()"
   ]
  },
  {
   "cell_type": "code",
   "execution_count": 17,
   "metadata": {},
   "outputs": [
    {
     "data": {
      "text/plain": [
       "(0.004850300672683369, 1.9624230615137623)"
      ]
     },
     "execution_count": 17,
     "metadata": {},
     "output_type": "execute_result"
    }
   ],
   "source": [
    "b = sum((x - x_mean) * (y - y_mean)) / sum((x - x_mean) ** 2)\n",
    "a = y_mean - x_mean * b\n",
    "(a, b)"
   ]
  },
  {
   "cell_type": "code",
   "execution_count": 18,
   "metadata": {},
   "outputs": [],
   "source": [
    "d = y - (a + b * x)\n",
    "D = sum((x - x_mean) ** 2)\n",
    "S_b = (1 / D * sum(d ** 2) / 1) ** 0.5\n",
    "S_a = ((1 / 3 + x_mean ** 2 / D) * sum(d ** 2) / 1) * 0.5\n",
    "a_err = 2 * S_a\n",
    "b_err = 2 * S_b"
   ]
  },
  {
   "cell_type": "code",
   "execution_count": 19,
   "metadata": {},
   "outputs": [
    {
     "data": {
      "text/plain": [
       "(0.00485, 8.546885331411329e-05, 9e-05)"
      ]
     },
     "execution_count": 19,
     "metadata": {},
     "output_type": "execute_result"
    }
   ],
   "source": [
    "I0_err = a_err\n",
    "round(I0, 5), I0_err, round(I0_err, 5)"
   ]
  },
  {
   "cell_type": "code",
   "execution_count": 20,
   "metadata": {},
   "outputs": [
    {
     "data": {
      "text/plain": [
       "(0.4906057653784406, 0.16973852089671135, 0.17)"
      ]
     },
     "execution_count": 20,
     "metadata": {},
     "output_type": "execute_result"
    }
   ],
   "source": [
    "m_ut_err = b_err / 4\n",
    "m_ut, m_ut_err, round(m_ut_err, 2)"
   ]
  },
  {
   "cell_type": "code",
   "execution_count": null,
   "metadata": {},
   "outputs": [],
   "source": []
  }
 ],
 "metadata": {
  "kernelspec": {
   "display_name": "Python 3",
   "language": "python",
   "name": "python3"
  },
  "language_info": {
   "codemirror_mode": {
    "name": "ipython",
    "version": 3
   },
   "file_extension": ".py",
   "mimetype": "text/x-python",
   "name": "python",
   "nbconvert_exporter": "python",
   "pygments_lexer": "ipython3",
   "version": "3.11.4"
  }
 },
 "nbformat": 4,
 "nbformat_minor": 2
}
