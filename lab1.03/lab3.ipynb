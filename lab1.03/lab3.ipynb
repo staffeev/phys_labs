{
 "cells": [
  {
   "cell_type": "code",
   "execution_count": 1,
   "metadata": {},
   "outputs": [],
   "source": [
    "import numpy as np\n",
    "from matplotlib import pyplot as plt\n",
    "import pandas as pd"
   ]
  },
  {
   "cell_type": "code",
   "execution_count": 2,
   "metadata": {},
   "outputs": [],
   "source": [
    "def find_acc(x):\n",
    "    xi = \"\"\n",
    "    t = False\n",
    "    for e in str(x):\n",
    "        if not t:\n",
    "            t = e in \"123456789\"\n",
    "        if t:\n",
    "            xi += e\n",
    "    r = str(x).find(xi)\n",
    "    if xi[0] in \"123\":\n",
    "        return round(x, r), r\n",
    "    return round(x, r - 1), r - 1"
   ]
  },
  {
   "cell_type": "code",
   "execution_count": 3,
   "metadata": {},
   "outputs": [],
   "source": [
    "def find_accs(xs):\n",
    "    res = []\n",
    "    for i in xs:\n",
    "        res.append(find_acc(i)[0])\n",
    "    return np.array(res)"
   ]
  },
  {
   "cell_type": "code",
   "execution_count": 4,
   "metadata": {},
   "outputs": [],
   "source": [
    "student_coef = 2.7764451051977987\n",
    "N = 5"
   ]
  },
  {
   "cell_type": "markdown",
   "metadata": {},
   "source": [
    "### Задание 1.1"
   ]
  },
  {
   "cell_type": "code",
   "execution_count": 5,
   "metadata": {},
   "outputs": [
    {
     "data": {
      "text/html": [
       "<div>\n",
       "<style scoped>\n",
       "    .dataframe tbody tr th:only-of-type {\n",
       "        vertical-align: middle;\n",
       "    }\n",
       "\n",
       "    .dataframe tbody tr th {\n",
       "        vertical-align: top;\n",
       "    }\n",
       "\n",
       "    .dataframe thead th {\n",
       "        text-align: right;\n",
       "    }\n",
       "</style>\n",
       "<table border=\"1\" class=\"dataframe\">\n",
       "  <thead>\n",
       "    <tr style=\"text-align: right;\">\n",
       "      <th></th>\n",
       "      <th>№ опыта</th>\n",
       "      <th>m1</th>\n",
       "      <th>m2</th>\n",
       "      <th>v10x</th>\n",
       "      <th>v1x</th>\n",
       "      <th>v2x</th>\n",
       "    </tr>\n",
       "  </thead>\n",
       "  <tbody>\n",
       "    <tr>\n",
       "      <th>0</th>\n",
       "      <td>1</td>\n",
       "      <td>50.93</td>\n",
       "      <td>47.95</td>\n",
       "      <td>0.47</td>\n",
       "      <td>0.05</td>\n",
       "      <td>0.46</td>\n",
       "    </tr>\n",
       "    <tr>\n",
       "      <th>1</th>\n",
       "      <td>2</td>\n",
       "      <td>50.93</td>\n",
       "      <td>47.95</td>\n",
       "      <td>0.47</td>\n",
       "      <td>0.05</td>\n",
       "      <td>0.45</td>\n",
       "    </tr>\n",
       "    <tr>\n",
       "      <th>2</th>\n",
       "      <td>3</td>\n",
       "      <td>50.93</td>\n",
       "      <td>47.95</td>\n",
       "      <td>0.46</td>\n",
       "      <td>0.05</td>\n",
       "      <td>0.45</td>\n",
       "    </tr>\n",
       "    <tr>\n",
       "      <th>3</th>\n",
       "      <td>4</td>\n",
       "      <td>50.93</td>\n",
       "      <td>47.95</td>\n",
       "      <td>0.45</td>\n",
       "      <td>0.05</td>\n",
       "      <td>0.43</td>\n",
       "    </tr>\n",
       "    <tr>\n",
       "      <th>4</th>\n",
       "      <td>5</td>\n",
       "      <td>50.93</td>\n",
       "      <td>47.95</td>\n",
       "      <td>0.46</td>\n",
       "      <td>0.05</td>\n",
       "      <td>0.45</td>\n",
       "    </tr>\n",
       "  </tbody>\n",
       "</table>\n",
       "</div>"
      ],
      "text/plain": [
       "   № опыта     m1     m2  v10x   v1x   v2x\n",
       "0        1  50.93  47.95  0.47  0.05  0.46\n",
       "1        2  50.93  47.95  0.47  0.05  0.45\n",
       "2        3  50.93  47.95  0.46  0.05  0.45\n",
       "3        4  50.93  47.95  0.45  0.05  0.43\n",
       "4        5  50.93  47.95  0.46  0.05  0.45"
      ]
     },
     "execution_count": 5,
     "metadata": {},
     "output_type": "execute_result"
    }
   ],
   "source": [
    "el = pd.read_csv(\"elastic.csv\") # pd.read_csv(\"elastic_heavy.csv\")\n",
    "el\n"
   ]
  },
  {
   "cell_type": "code",
   "execution_count": 6,
   "metadata": {},
   "outputs": [
    {
     "data": {
      "text/html": [
       "<div>\n",
       "<style scoped>\n",
       "    .dataframe tbody tr th:only-of-type {\n",
       "        vertical-align: middle;\n",
       "    }\n",
       "\n",
       "    .dataframe tbody tr th {\n",
       "        vertical-align: top;\n",
       "    }\n",
       "\n",
       "    .dataframe thead th {\n",
       "        text-align: right;\n",
       "    }\n",
       "</style>\n",
       "<table border=\"1\" class=\"dataframe\">\n",
       "  <thead>\n",
       "    <tr style=\"text-align: right;\">\n",
       "      <th></th>\n",
       "      <th>p10x</th>\n",
       "      <th>p1x</th>\n",
       "      <th>p2x</th>\n",
       "      <th>delta_p</th>\n",
       "      <th>delta_W</th>\n",
       "    </tr>\n",
       "  </thead>\n",
       "  <tbody>\n",
       "    <tr>\n",
       "      <th>0</th>\n",
       "      <td>23.9371</td>\n",
       "      <td>2.5465</td>\n",
       "      <td>22.0570</td>\n",
       "      <td>0.027840</td>\n",
       "      <td>-0.086831</td>\n",
       "    </tr>\n",
       "    <tr>\n",
       "      <th>1</th>\n",
       "      <td>23.9371</td>\n",
       "      <td>2.5465</td>\n",
       "      <td>21.5775</td>\n",
       "      <td>0.007808</td>\n",
       "      <td>-0.125616</td>\n",
       "    </tr>\n",
       "    <tr>\n",
       "      <th>2</th>\n",
       "      <td>23.4278</td>\n",
       "      <td>2.5465</td>\n",
       "      <td>21.5775</td>\n",
       "      <td>0.029717</td>\n",
       "      <td>-0.087186</td>\n",
       "    </tr>\n",
       "    <tr>\n",
       "      <th>3</th>\n",
       "      <td>22.9185</td>\n",
       "      <td>2.5465</td>\n",
       "      <td>20.6185</td>\n",
       "      <td>0.010756</td>\n",
       "      <td>-0.127994</td>\n",
       "    </tr>\n",
       "    <tr>\n",
       "      <th>4</th>\n",
       "      <td>23.4278</td>\n",
       "      <td>2.5465</td>\n",
       "      <td>21.5775</td>\n",
       "      <td>0.029717</td>\n",
       "      <td>-0.087186</td>\n",
       "    </tr>\n",
       "  </tbody>\n",
       "</table>\n",
       "</div>"
      ],
      "text/plain": [
       "      p10x     p1x      p2x   delta_p   delta_W\n",
       "0  23.9371  2.5465  22.0570  0.027840 -0.086831\n",
       "1  23.9371  2.5465  21.5775  0.007808 -0.125616\n",
       "2  23.4278  2.5465  21.5775  0.029717 -0.087186\n",
       "3  22.9185  2.5465  20.6185  0.010756 -0.127994\n",
       "4  23.4278  2.5465  21.5775  0.029717 -0.087186"
      ]
     },
     "execution_count": 6,
     "metadata": {},
     "output_type": "execute_result"
    }
   ],
   "source": [
    "p10x = el[\"m1\"] * el[\"v10x\"]\n",
    "p1x = el[\"m1\"] * el[\"v1x\"]\n",
    "p2x = el[\"m2\"] * el[\"v2x\"]\n",
    "delta_p = (p1x + p2x) / p10x - 1\n",
    "delta_W = (el[\"m1\"] * el[\"v1x\"] ** 2 + el[\"m2\"] * el[\"v2x\"] ** 2) / (el[\"m1\"] * el[\"v10x\"] ** 2) - 1\n",
    "table_7 = pd.DataFrame({\"p10x\": p10x, \"p1x\": p1x, \"p2x\": p2x, \"delta_p\": delta_p, \"delta_W\": delta_W})\n",
    "table_7"
   ]
  },
  {
   "cell_type": "code",
   "execution_count": 7,
   "metadata": {},
   "outputs": [
    {
     "name": "stdout",
     "output_type": "stream",
     "text": [
      "24.0\t3.0\t22.0\t0.028\t-0.087\n",
      "24.0\t3.0\t22.0\t0.008\t-0.126\n",
      "23.0\t3.0\t22.0\t0.03\t-0.087\n",
      "23.0\t3.0\t21.0\t0.011\t-0.128\n",
      "23.0\t3.0\t22.0\t0.03\t-0.087\n"
     ]
    }
   ],
   "source": [
    "table_7[\"p10x\"] = find_accs(p10x)\n",
    "table_7[\"p1x\"] = find_accs(p1x)\n",
    "table_7[\"p2x\"] = find_accs(p2x)\n",
    "table_7[\"delta_p\"] = find_accs(delta_p)\n",
    "table_7[\"delta_W\"] = find_accs(delta_W)\n",
    "for i in table_7.iterrows():\n",
    "    print(\"\\t\".join(map(str, i[1])))\n",
    "\n"
   ]
  },
  {
   "cell_type": "code",
   "execution_count": 8,
   "metadata": {},
   "outputs": [
    {
     "data": {
      "text/plain": [
       "(0.0214, -0.10300000000000001)"
      ]
     },
     "execution_count": 8,
     "metadata": {},
     "output_type": "execute_result"
    }
   ],
   "source": [
    "mean_delta_p = table_7[\"delta_p\"].mean()\n",
    "mean_delta_W = table_7[\"delta_W\"].mean()\n",
    "mean_delta_p, mean_delta_W"
   ]
  },
  {
   "cell_type": "code",
   "execution_count": 9,
   "metadata": {},
   "outputs": [
    {
     "data": {
      "text/plain": [
       "(0.013571350526466557, 0.027045534648377813)"
      ]
     },
     "execution_count": 9,
     "metadata": {},
     "output_type": "execute_result"
    }
   ],
   "source": [
    "mean_dp_err = student_coef * np.sqrt(np.sum((delta_p - mean_delta_p) ** 2) / (N * (N - 1)))\n",
    "mean_dW_err = student_coef * np.sqrt(np.sum((delta_W - mean_delta_W) ** 2) / (N * (N - 1)))\n",
    "mean_dp_err, mean_dW_err"
   ]
  },
  {
   "cell_type": "markdown",
   "metadata": {},
   "source": [
    "### Задание 1.2"
   ]
  },
  {
   "cell_type": "code",
   "execution_count": 10,
   "metadata": {},
   "outputs": [
    {
     "data": {
      "text/html": [
       "<div>\n",
       "<style scoped>\n",
       "    .dataframe tbody tr th:only-of-type {\n",
       "        vertical-align: middle;\n",
       "    }\n",
       "\n",
       "    .dataframe tbody tr th {\n",
       "        vertical-align: top;\n",
       "    }\n",
       "\n",
       "    .dataframe thead th {\n",
       "        text-align: right;\n",
       "    }\n",
       "</style>\n",
       "<table border=\"1\" class=\"dataframe\">\n",
       "  <thead>\n",
       "    <tr style=\"text-align: right;\">\n",
       "      <th></th>\n",
       "      <th>№ опыта</th>\n",
       "      <th>m1</th>\n",
       "      <th>m2</th>\n",
       "      <th>v10</th>\n",
       "      <th>v</th>\n",
       "    </tr>\n",
       "  </thead>\n",
       "  <tbody>\n",
       "    <tr>\n",
       "      <th>0</th>\n",
       "      <td>1</td>\n",
       "      <td>53.96</td>\n",
       "      <td>50.89</td>\n",
       "      <td>0.43</td>\n",
       "      <td>0.15</td>\n",
       "    </tr>\n",
       "    <tr>\n",
       "      <th>1</th>\n",
       "      <td>2</td>\n",
       "      <td>53.96</td>\n",
       "      <td>50.89</td>\n",
       "      <td>0.41</td>\n",
       "      <td>0.12</td>\n",
       "    </tr>\n",
       "    <tr>\n",
       "      <th>2</th>\n",
       "      <td>3</td>\n",
       "      <td>53.96</td>\n",
       "      <td>50.89</td>\n",
       "      <td>0.42</td>\n",
       "      <td>0.15</td>\n",
       "    </tr>\n",
       "    <tr>\n",
       "      <th>3</th>\n",
       "      <td>4</td>\n",
       "      <td>53.96</td>\n",
       "      <td>50.89</td>\n",
       "      <td>0.35</td>\n",
       "      <td>0.07</td>\n",
       "    </tr>\n",
       "    <tr>\n",
       "      <th>4</th>\n",
       "      <td>5</td>\n",
       "      <td>53.96</td>\n",
       "      <td>50.89</td>\n",
       "      <td>0.35</td>\n",
       "      <td>0.08</td>\n",
       "    </tr>\n",
       "  </tbody>\n",
       "</table>\n",
       "</div>"
      ],
      "text/plain": [
       "   № опыта     m1     m2   v10     v\n",
       "0        1  53.96  50.89  0.43  0.15\n",
       "1        2  53.96  50.89  0.41  0.12\n",
       "2        3  53.96  50.89  0.42  0.15\n",
       "3        4  53.96  50.89  0.35  0.07\n",
       "4        5  53.96  50.89  0.35  0.08"
      ]
     },
     "execution_count": 10,
     "metadata": {},
     "output_type": "execute_result"
    }
   ],
   "source": [
    "nel = pd.read_csv(\"non_elastic.csv\") # pd.read_csv(\"non_elastic_heavy.csv\")\n",
    "nel\n"
   ]
  },
  {
   "cell_type": "code",
   "execution_count": 11,
   "metadata": {},
   "outputs": [
    {
     "data": {
      "text/html": [
       "<div>\n",
       "<style scoped>\n",
       "    .dataframe tbody tr th:only-of-type {\n",
       "        vertical-align: middle;\n",
       "    }\n",
       "\n",
       "    .dataframe tbody tr th {\n",
       "        vertical-align: top;\n",
       "    }\n",
       "\n",
       "    .dataframe thead th {\n",
       "        text-align: right;\n",
       "    }\n",
       "</style>\n",
       "<table border=\"1\" class=\"dataframe\">\n",
       "  <thead>\n",
       "    <tr style=\"text-align: right;\">\n",
       "      <th></th>\n",
       "      <th>p10</th>\n",
       "      <th>p</th>\n",
       "      <th>delta_p</th>\n",
       "      <th>delta_W_exp</th>\n",
       "      <th>delta_W_theor</th>\n",
       "    </tr>\n",
       "  </thead>\n",
       "  <tbody>\n",
       "    <tr>\n",
       "      <th>0</th>\n",
       "      <td>23.2028</td>\n",
       "      <td>15.7275</td>\n",
       "      <td>-0.322172</td>\n",
       "      <td>-0.763548</td>\n",
       "      <td>-0.48536</td>\n",
       "    </tr>\n",
       "    <tr>\n",
       "      <th>1</th>\n",
       "      <td>22.1236</td>\n",
       "      <td>12.5820</td>\n",
       "      <td>-0.431286</td>\n",
       "      <td>-0.833547</td>\n",
       "      <td>-0.48536</td>\n",
       "    </tr>\n",
       "    <tr>\n",
       "      <th>2</th>\n",
       "      <td>22.6632</td>\n",
       "      <td>15.7275</td>\n",
       "      <td>-0.306034</td>\n",
       "      <td>-0.752155</td>\n",
       "      <td>-0.48536</td>\n",
       "    </tr>\n",
       "    <tr>\n",
       "      <th>3</th>\n",
       "      <td>18.8860</td>\n",
       "      <td>7.3395</td>\n",
       "      <td>-0.611379</td>\n",
       "      <td>-0.922276</td>\n",
       "      <td>-0.48536</td>\n",
       "    </tr>\n",
       "    <tr>\n",
       "      <th>4</th>\n",
       "      <td>18.8860</td>\n",
       "      <td>8.3880</td>\n",
       "      <td>-0.555861</td>\n",
       "      <td>-0.898483</td>\n",
       "      <td>-0.48536</td>\n",
       "    </tr>\n",
       "  </tbody>\n",
       "</table>\n",
       "</div>"
      ],
      "text/plain": [
       "       p10        p   delta_p  delta_W_exp  delta_W_theor\n",
       "0  23.2028  15.7275 -0.322172    -0.763548       -0.48536\n",
       "1  22.1236  12.5820 -0.431286    -0.833547       -0.48536\n",
       "2  22.6632  15.7275 -0.306034    -0.752155       -0.48536\n",
       "3  18.8860   7.3395 -0.611379    -0.922276       -0.48536\n",
       "4  18.8860   8.3880 -0.555861    -0.898483       -0.48536"
      ]
     },
     "execution_count": 11,
     "metadata": {},
     "output_type": "execute_result"
    }
   ],
   "source": [
    "p10 = nel[\"m1\"] * nel[\"v10\"]\n",
    "p = (nel[\"m1\"] + nel[\"m2\"]) * nel[\"v\"]\n",
    "delta_p2 = p / p10 - 1\n",
    "delta_W2_exp = (nel[\"m1\"] + nel[\"m2\"]) * nel[\"v\"] ** 2 / (nel[\"m1\"] * nel[\"v10\"] ** 2) - 1\n",
    "delta_W2_theor = -nel[\"m2\"] / (nel[\"m1\"] + nel[\"m2\"])\n",
    "table_9 = pd.DataFrame({\"p10\": p10, \"p\": p, \"delta_p\": delta_p2, \"delta_W_exp\": delta_W2_exp, \"delta_W_theor\": delta_W2_theor})\n",
    "table_9"
   ]
  },
  {
   "cell_type": "code",
   "execution_count": 12,
   "metadata": {},
   "outputs": [
    {
     "name": "stdout",
     "output_type": "stream",
     "text": [
      "23.0\t16.0\t-0.322\t-0.76\t-0.49\n",
      "22.0\t13.0\t-0.43\t-0.83\t-0.49\n",
      "23.0\t16.0\t-0.306\t-0.75\t-0.49\n",
      "19.0\t10.0\t-0.61\t-0.92\t-0.49\n",
      "19.0\t10.0\t-0.56\t-0.9\t-0.49\n"
     ]
    }
   ],
   "source": [
    "table_9[\"p10\"] = find_accs(p10)\n",
    "table_9[\"p\"] = find_accs(p)\n",
    "table_9[\"delta_p\"] = find_accs(delta_p2)\n",
    "table_9[\"delta_W_exp\"] = find_accs(delta_W2_exp)\n",
    "table_9[\"delta_W_theor\"] = find_accs(delta_W2_theor)\n",
    "for i in table_9.iterrows():\n",
    "    print(\"\\t\".join(map(str, i[1])))"
   ]
  },
  {
   "cell_type": "code",
   "execution_count": 13,
   "metadata": {},
   "outputs": [
    {
     "data": {
      "text/plain": [
       "(-0.44560000000000005, -0.8320000000000001)"
      ]
     },
     "execution_count": 13,
     "metadata": {},
     "output_type": "execute_result"
    }
   ],
   "source": [
    "mean_delta_p2 = table_9[\"delta_p\"].mean()\n",
    "mean_delta_W2 = table_9[\"delta_W_exp\"].mean()\n",
    "mean_delta_p2, mean_delta_W2"
   ]
  },
  {
   "cell_type": "code",
   "execution_count": 14,
   "metadata": {},
   "outputs": [
    {
     "data": {
      "text/plain": [
       "(0.16952041874922358, 0.09544048590482175)"
      ]
     },
     "execution_count": 14,
     "metadata": {},
     "output_type": "execute_result"
    }
   ],
   "source": [
    "mean_dp2_err = student_coef * np.sqrt(np.sum((delta_p2 - mean_delta_p2) ** 2) / (N * (N - 1)))\n",
    "mean_dW2_err = student_coef * np.sqrt(np.sum((delta_W2_exp - mean_delta_W2) ** 2) / (N * (N - 1)))\n",
    "mean_dp2_err, mean_dW2_err"
   ]
  },
  {
   "cell_type": "markdown",
   "metadata": {},
   "source": [
    "### Задание 2"
   ]
  },
  {
   "cell_type": "code",
   "execution_count": 15,
   "metadata": {},
   "outputs": [],
   "source": [
    "x1 = 0.15\n",
    "x2 = 0.80\n",
    "g = 9.82\n",
    "M1, M2 = 49.3, 100.3"
   ]
  },
  {
   "cell_type": "code",
   "execution_count": 16,
   "metadata": {},
   "outputs": [
    {
     "data": {
      "text/html": [
       "<div>\n",
       "<style scoped>\n",
       "    .dataframe tbody tr th:only-of-type {\n",
       "        vertical-align: middle;\n",
       "    }\n",
       "\n",
       "    .dataframe tbody tr th {\n",
       "        vertical-align: top;\n",
       "    }\n",
       "\n",
       "    .dataframe thead th {\n",
       "        text-align: right;\n",
       "    }\n",
       "</style>\n",
       "<table border=\"1\" class=\"dataframe\">\n",
       "  <thead>\n",
       "    <tr style=\"text-align: right;\">\n",
       "      <th></th>\n",
       "      <th>№ опыта</th>\n",
       "      <th>Количество шайб</th>\n",
       "      <th>m</th>\n",
       "      <th>v1</th>\n",
       "      <th>v2</th>\n",
       "    </tr>\n",
       "  </thead>\n",
       "  <tbody>\n",
       "    <tr>\n",
       "      <th>0</th>\n",
       "      <td>1</td>\n",
       "      <td>0</td>\n",
       "      <td>2.1</td>\n",
       "      <td>0.21</td>\n",
       "      <td>0.29</td>\n",
       "    </tr>\n",
       "    <tr>\n",
       "      <th>1</th>\n",
       "      <td>2</td>\n",
       "      <td>1</td>\n",
       "      <td>3.0</td>\n",
       "      <td>0.25</td>\n",
       "      <td>0.39</td>\n",
       "    </tr>\n",
       "    <tr>\n",
       "      <th>2</th>\n",
       "      <td>3</td>\n",
       "      <td>2</td>\n",
       "      <td>3.8</td>\n",
       "      <td>0.34</td>\n",
       "      <td>0.46</td>\n",
       "    </tr>\n",
       "    <tr>\n",
       "      <th>3</th>\n",
       "      <td>4</td>\n",
       "      <td>3</td>\n",
       "      <td>4.7</td>\n",
       "      <td>0.39</td>\n",
       "      <td>0.52</td>\n",
       "    </tr>\n",
       "    <tr>\n",
       "      <th>4</th>\n",
       "      <td>5</td>\n",
       "      <td>4</td>\n",
       "      <td>5.6</td>\n",
       "      <td>0.43</td>\n",
       "      <td>0.58</td>\n",
       "    </tr>\n",
       "    <tr>\n",
       "      <th>5</th>\n",
       "      <td>6</td>\n",
       "      <td>5</td>\n",
       "      <td>6.4</td>\n",
       "      <td>0.47</td>\n",
       "      <td>0.63</td>\n",
       "    </tr>\n",
       "    <tr>\n",
       "      <th>6</th>\n",
       "      <td>7</td>\n",
       "      <td>6</td>\n",
       "      <td>7.3</td>\n",
       "      <td>0.50</td>\n",
       "      <td>0.67</td>\n",
       "    </tr>\n",
       "  </tbody>\n",
       "</table>\n",
       "</div>"
      ],
      "text/plain": [
       "   № опыта  Количество шайб    m    v1    v2\n",
       "0        1                0  2.1  0.21  0.29\n",
       "1        2                1  3.0  0.25  0.39\n",
       "2        3                2  3.8  0.34  0.46\n",
       "3        4                3  4.7  0.39  0.52\n",
       "4        5                4  5.6  0.43  0.58\n",
       "5        6                5  6.4  0.47  0.63\n",
       "6        7                6  7.3  0.50  0.67"
      ]
     },
     "execution_count": 16,
     "metadata": {},
     "output_type": "execute_result"
    }
   ],
   "source": [
    "wdf = pd.read_csv(\"weight.csv\") #pd.read_csv(\"weight_heavy.csv\")\n",
    "wdf"
   ]
  },
  {
   "cell_type": "code",
   "execution_count": 17,
   "metadata": {},
   "outputs": [
    {
     "data": {
      "text/html": [
       "<div>\n",
       "<style scoped>\n",
       "    .dataframe tbody tr th:only-of-type {\n",
       "        vertical-align: middle;\n",
       "    }\n",
       "\n",
       "    .dataframe tbody tr th {\n",
       "        vertical-align: top;\n",
       "    }\n",
       "\n",
       "    .dataframe thead th {\n",
       "        text-align: right;\n",
       "    }\n",
       "</style>\n",
       "<table border=\"1\" class=\"dataframe\">\n",
       "  <thead>\n",
       "    <tr style=\"text-align: right;\">\n",
       "      <th></th>\n",
       "      <th>m</th>\n",
       "      <th>a</th>\n",
       "      <th>T</th>\n",
       "    </tr>\n",
       "  </thead>\n",
       "  <tbody>\n",
       "    <tr>\n",
       "      <th>0</th>\n",
       "      <td>2.1</td>\n",
       "      <td>0.030769</td>\n",
       "      <td>20.557385</td>\n",
       "    </tr>\n",
       "    <tr>\n",
       "      <th>1</th>\n",
       "      <td>3.0</td>\n",
       "      <td>0.068923</td>\n",
       "      <td>29.253231</td>\n",
       "    </tr>\n",
       "    <tr>\n",
       "      <th>2</th>\n",
       "      <td>3.8</td>\n",
       "      <td>0.073846</td>\n",
       "      <td>37.035385</td>\n",
       "    </tr>\n",
       "    <tr>\n",
       "      <th>3</th>\n",
       "      <td>4.7</td>\n",
       "      <td>0.091000</td>\n",
       "      <td>45.726300</td>\n",
       "    </tr>\n",
       "    <tr>\n",
       "      <th>4</th>\n",
       "      <td>5.6</td>\n",
       "      <td>0.116538</td>\n",
       "      <td>54.339385</td>\n",
       "    </tr>\n",
       "    <tr>\n",
       "      <th>5</th>\n",
       "      <td>6.4</td>\n",
       "      <td>0.135385</td>\n",
       "      <td>61.981538</td>\n",
       "    </tr>\n",
       "    <tr>\n",
       "      <th>6</th>\n",
       "      <td>7.3</td>\n",
       "      <td>0.153000</td>\n",
       "      <td>70.569100</td>\n",
       "    </tr>\n",
       "  </tbody>\n",
       "</table>\n",
       "</div>"
      ],
      "text/plain": [
       "     m         a          T\n",
       "0  2.1  0.030769  20.557385\n",
       "1  3.0  0.068923  29.253231\n",
       "2  3.8  0.073846  37.035385\n",
       "3  4.7  0.091000  45.726300\n",
       "4  5.6  0.116538  54.339385\n",
       "5  6.4  0.135385  61.981538\n",
       "6  7.3  0.153000  70.569100"
      ]
     },
     "execution_count": 17,
     "metadata": {},
     "output_type": "execute_result"
    }
   ],
   "source": [
    "lin_a = (wdf[\"v2\"] ** 2 - wdf[\"v1\"] ** 2) / (2 * (x2 - x1))\n",
    "T = wdf[\"m\"] * (g - lin_a)\n",
    "table_11 = pd.DataFrame({\"m\": wdf[\"m\"], \"a\": lin_a, \"T\": T})\n",
    "table_11"
   ]
  },
  {
   "cell_type": "code",
   "execution_count": 18,
   "metadata": {},
   "outputs": [
    {
     "name": "stdout",
     "output_type": "stream",
     "text": [
      "2.1\t0.031\t21.0\n",
      "3.0\t0.069\t29.0\n",
      "3.8\t0.074\t37.0\n",
      "4.7\t0.091\t46.0\n",
      "5.6\t0.117\t54.0\n",
      "6.4\t0.135\t62.0\n",
      "7.3\t0.153\t71.0\n"
     ]
    }
   ],
   "source": [
    "table_11[\"a\"] = round(table_11[\"a\"], 3)\n",
    "table_11[\"T\"] = round(table_11[\"T\"]).astype(int)\n",
    "for i in table_11.iterrows():\n",
    "    print(\"\\t\".join(map(str, i[1])))"
   ]
  },
  {
   "cell_type": "code",
   "execution_count": 19,
   "metadata": {},
   "outputs": [
    {
     "name": "stdout",
     "output_type": "stream",
     "text": [
      "2.1\t0.031\t21.0\n",
      "3.0\t0.07\t29.0\n",
      "3.8\t0.07\t37.0\n",
      "4.7\t0.09\t50.0\n",
      "5.6\t0.12\t50.0\n",
      "6.4\t0.14\t60.0\n",
      "7.3\t0.15\t70.0\n"
     ]
    }
   ],
   "source": [
    "table_11[\"a\"] = find_accs(table_11[\"a\"])\n",
    "table_11[\"T\"] = find_accs(table_11[\"T\"])\n",
    "for i in table_11.iterrows():\n",
    "    print(\"\\t\".join(map(str, i[1])))"
   ]
  },
  {
   "cell_type": "markdown",
   "metadata": {},
   "source": [
    "### МНК"
   ]
  },
  {
   "cell_type": "markdown",
   "metadata": {},
   "source": [
    "y=a+bx\n",
    "\n",
    "T=F_fr + M1*lin_a"
   ]
  },
  {
   "cell_type": "code",
   "execution_count": 20,
   "metadata": {},
   "outputs": [],
   "source": [
    "x = np.array(lin_a)\n",
    "y = np.array(T)\n",
    "x_mean = x.mean()\n",
    "y_mean = y.mean()"
   ]
  },
  {
   "cell_type": "code",
   "execution_count": 21,
   "metadata": {},
   "outputs": [
    {
     "data": {
      "text/plain": [
       "(5.391677083974741, 420.81668221972865)"
      ]
     },
     "execution_count": 21,
     "metadata": {},
     "output_type": "execute_result"
    }
   ],
   "source": [
    "b = sum((x - x_mean) * (y - y_mean)) / sum((x - x_mean) ** 2)\n",
    "a = y_mean - x_mean * b\n",
    "a, b"
   ]
  },
  {
   "cell_type": "code",
   "execution_count": 22,
   "metadata": {},
   "outputs": [],
   "source": [
    "d = y - (a + b * x)\n",
    "D = sum((x - x_mean) ** 2)\n",
    "S_b = ((1 / D) * sum(d ** 2) / (N - 2)) ** 0.5\n",
    "S_a = ((1 / N + x_mean ** 2 / D) * sum(d ** 2) / (N - 2)) * 0.5\n",
    "a_err = 2 * S_a\n",
    "b_err = 2 * S_b"
   ]
  },
  {
   "cell_type": "code",
   "execution_count": 23,
   "metadata": {},
   "outputs": [
    {
     "data": {
      "text/plain": [
       "(12.854967621224135, 67.48221570525813)"
      ]
     },
     "execution_count": 23,
     "metadata": {},
     "output_type": "execute_result"
    }
   ],
   "source": [
    "a_err, b_err"
   ]
  },
  {
   "cell_type": "code",
   "execution_count": 24,
   "metadata": {},
   "outputs": [],
   "source": [
    "F_fr, F_fr_err = a, a_err\n",
    "M, M_err = b, b_err"
   ]
  },
  {
   "cell_type": "code",
   "execution_count": 25,
   "metadata": {},
   "outputs": [
    {
     "data": {
      "text/plain": [
       "(420.81668221972865, 67.48221570525813)"
      ]
     },
     "execution_count": 25,
     "metadata": {},
     "output_type": "execute_result"
    }
   ],
   "source": [
    "M, M_err"
   ]
  },
  {
   "cell_type": "code",
   "execution_count": 26,
   "metadata": {},
   "outputs": [
    {
     "data": {
      "text/plain": [
       "5.391677083974741"
      ]
     },
     "execution_count": 26,
     "metadata": {},
     "output_type": "execute_result"
    }
   ],
   "source": [
    "F_fr"
   ]
  },
  {
   "cell_type": "code",
   "execution_count": 27,
   "metadata": {},
   "outputs": [
    {
     "data": {
      "text/plain": [
       "<matplotlib.legend.Legend at 0x2419fa47d10>"
      ]
     },
     "execution_count": 27,
     "metadata": {},
     "output_type": "execute_result"
    },
    {
     "data": {
      "image/png": "[encoded data removed]",
      "text/plain": [
       "<Figure size 640x480 with 1 Axes>"
      ]
     },
     "metadata": {},
     "output_type": "display_data"
    }
   ],
   "source": [
    "plt.scatter(lin_a, T, c=\"black\", label=r\"$(a_{i}, T_{i})$\")\n",
    "plt.plot(lin_a, M * lin_a + F_fr, c=\"red\", label=r\"$T=Ma+F_{тр}$\")\n",
    "plt.xlabel(r\"$a$, \" + \"м/c\" + r\"$^2$\")\n",
    "plt.ylabel(r\"$T$, \" + \"Н\")\n",
    "plt.grid()\n",
    "plt.legend()"
   ]
  },
  {
   "cell_type": "markdown",
   "metadata": {},
   "source": [
    "## Для графика "
   ]
  },
  {
   "cell_type": "code",
   "execution_count": 28,
   "metadata": {},
   "outputs": [],
   "source": [
    "lin_a_1 = lin_a\n",
    "M_1 = M\n",
    "F_fr_1 = F_fr\n",
    "T_1 = T"
   ]
  },
  {
   "cell_type": "code",
   "execution_count": 29,
   "metadata": {},
   "outputs": [
    {
     "name": "stdout",
     "output_type": "stream",
     "text": [
      "2.1\t0.014\t21.0\n",
      "3.0\t0.023\t29.0\n",
      "3.8\t0.039\t37.0\n",
      "4.7\t0.046\t46.0\n",
      "5.6\t0.058\t55.0\n",
      "6.4\t0.07\t62.0\n",
      "7.3\t0.083\t71.0\n",
      "2.1\t0.014\t21.0\n",
      "3.0\t0.023\t29.0\n",
      "3.8\t0.039\t37.0\n",
      "4.7\t0.05\t50.0\n",
      "5.6\t0.06\t60.0\n",
      "6.4\t0.07\t60.0\n",
      "7.3\t0.08\t70.0\n"
     ]
    }
   ],
   "source": [
    "x1 = 0.15\n",
    "x2 = 0.80\n",
    "g = 9.82\n",
    "M1, M2 = 49.3, 100.3\n",
    "wdf = pd.read_csv(\"weight_heavy.csv\") #pd.read_csv(\"weight_heavy.csv\")\n",
    "lin_a = (wdf[\"v2\"] ** 2 - wdf[\"v1\"] ** 2) / (2 * (x2 - x1))\n",
    "T = wdf[\"m\"] * (g - lin_a)\n",
    "table_11 = pd.DataFrame({\"m\": wdf[\"m\"], \"a\": lin_a, \"T\": T})\n",
    "table_11[\"a\"] = round(table_11[\"a\"], 3)\n",
    "table_11[\"T\"] = round(table_11[\"T\"]).astype(int)\n",
    "for i in table_11.iterrows():\n",
    "    print(\"\\t\".join(map(str, i[1])))\n",
    "table_11[\"a\"] = find_accs(table_11[\"a\"])\n",
    "table_11[\"T\"] = find_accs(table_11[\"T\"])\n",
    "for i in table_11.iterrows():\n",
    "    print(\"\\t\".join(map(str, i[1])))\n",
    "\n",
    "x = np.array(lin_a)\n",
    "y = np.array(T)\n",
    "x_mean = x.mean()\n",
    "y_mean = y.mean()\n",
    "b = sum((x - x_mean) * (y - y_mean)) / sum((x - x_mean) ** 2)\n",
    "a = y_mean - x_mean * b\n",
    "d = y - (a + b * x)\n",
    "D = sum((x - x_mean) ** 2)\n",
    "S_b = ((1 / D) * sum(d ** 2) / (N - 2)) ** 0.5\n",
    "S_a = ((1 / N + x_mean ** 2 / D) * sum(d ** 2) / (N - 2)) * 0.5\n",
    "a_err = 2 * S_a\n",
    "b_err = 2 * S_b\n",
    "F_fr, F_fr_err = a, a_err\n",
    "M, M_err = b, b_err"
   ]
  },
  {
   "cell_type": "code",
   "execution_count": 30,
   "metadata": {},
   "outputs": [],
   "source": [
    "lin_a_2 = lin_a\n",
    "M_2 = M\n",
    "F_fr_2 = F_fr\n",
    "T_2 = T"
   ]
  },
  {
   "cell_type": "code",
   "execution_count": 31,
   "metadata": {},
   "outputs": [
    {
     "data": {
      "text/plain": [
       "<matplotlib.legend.Legend at 0x2419fa95c10>"
      ]
     },
     "execution_count": 31,
     "metadata": {},
     "output_type": "execute_result"
    },
    {
     "data": {
      "image/png": "[encoded data removed]",
      "text/plain": [
       "<Figure size 640x480 with 1 Axes>"
      ]
     },
     "metadata": {},
     "output_type": "display_data"
    }
   ],
   "source": [
    "plt.scatter(lin_a_1, T_1, c=\"darkred\", label=r\"$(a_{i}, T_{i})$\")\n",
    "plt.plot(lin_a_1, M_1 * lin_a_1 + F_fr_1, c=\"red\", label=r\"$T=Ma+F_{тр}$\")\n",
    "plt.scatter(lin_a_2, T_2, c=\"darkblue\", label=r\"$(a_{i}, T_{i})$\")\n",
    "plt.plot(lin_a_2, M_2 * lin_a_2 + F_fr_2, c=\"blue\", label=r\"$T=Ma+F_{тр}$\")\n",
    "plt.xlabel(r\"$a$, \" + \"м/c\" + r\"$^2$\")\n",
    "plt.ylabel(r\"$T$, \" + \"Н\")\n",
    "plt.grid()\n",
    "plt.legend()"
   ]
  }
 ],
 "metadata": {
  "kernelspec": {
   "display_name": "Python 3",
   "language": "python",
   "name": "python3"
  },
  "language_info": {
   "codemirror_mode": {
    "name": "ipython",
    "version": 3
   },
   "file_extension": ".py",
   "mimetype": "text/x-python",
   "name": "python",
   "nbconvert_exporter": "python",
   "pygments_lexer": "ipython3",
   "version": "3.11.4"
  }
 },
 "nbformat": 4,
 "nbformat_minor": 2
}
