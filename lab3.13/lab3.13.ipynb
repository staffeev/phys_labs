{
 "cells": [
  {
   "cell_type": "code",
   "execution_count": 143,
   "metadata": {},
   "outputs": [],
   "source": [
    "import pandas as pd\n",
    "import numpy as np\n",
    "from matplotlib import pyplot as plt\n",
    "from sklearn.linear_model import LinearRegression\n",
    "from scipy.stats import linregress"
   ]
  },
  {
   "cell_type": "markdown",
   "metadata": {},
   "source": [
    "### Расчет значений"
   ]
  },
  {
   "cell_type": "code",
   "execution_count": 132,
   "metadata": {},
   "outputs": [],
   "source": [
    "df = pd.read_csv(\"lab3.13.csv\")\n",
    "df2 = df.copy()\n",
    "phi = 160 * np.pi / 180\n",
    "mu0 = 4 * np.pi * 10 ** (-7)\n",
    "n = 100\n",
    "R = 0.15"
   ]
  },
  {
   "cell_type": "code",
   "execution_count": 133,
   "metadata": {},
   "outputs": [],
   "source": [
    "df[\"I_mean\"] = (df[\"I1\"] + df[\"I2\"] + df[\"I3\"]) / 3\n",
    "df[\"delta_a\"] = df[\"delta_a\"] * np.pi / 180\n",
    "df[\"gamma\"] = np.sin(df[\"delta_a\"]) / (np.sin(phi - df[\"delta_a\"]))\n",
    "df[\"B_c\"] = mu0 * (4/5) ** (3/2) * (df[\"I_mean\"] / 1000) * n / R\n",
    "#df[\"B_c\"] *= 10 ** 6"
   ]
  },
  {
   "cell_type": "code",
   "execution_count": 134,
   "metadata": {},
   "outputs": [
    {
     "data": {
      "text/html": [
       "<div>\n",
       "<style scoped>\n",
       "    .dataframe tbody tr th:only-of-type {\n",
       "        vertical-align: middle;\n",
       "    }\n",
       "\n",
       "    .dataframe tbody tr th {\n",
       "        vertical-align: top;\n",
       "    }\n",
       "\n",
       "    .dataframe thead th {\n",
       "        text-align: right;\n",
       "    }\n",
       "</style>\n",
       "<table border=\"1\" class=\"dataframe\">\n",
       "  <thead>\n",
       "    <tr style=\"text-align: right;\">\n",
       "      <th></th>\n",
       "      <th>delta_a</th>\n",
       "      <th>I1</th>\n",
       "      <th>I2</th>\n",
       "      <th>I3</th>\n",
       "      <th>I_mean</th>\n",
       "      <th>gamma</th>\n",
       "      <th>B_c</th>\n",
       "    </tr>\n",
       "  </thead>\n",
       "  <tbody>\n",
       "    <tr>\n",
       "      <th>0</th>\n",
       "      <td>0.174533</td>\n",
       "      <td>14</td>\n",
       "      <td>14</td>\n",
       "      <td>13</td>\n",
       "      <td>13.666667</td>\n",
       "      <td>0.347296</td>\n",
       "      <td>0.000008</td>\n",
       "    </tr>\n",
       "    <tr>\n",
       "      <th>1</th>\n",
       "      <td>0.349066</td>\n",
       "      <td>23</td>\n",
       "      <td>22</td>\n",
       "      <td>22</td>\n",
       "      <td>22.333333</td>\n",
       "      <td>0.532089</td>\n",
       "      <td>0.000013</td>\n",
       "    </tr>\n",
       "    <tr>\n",
       "      <th>2</th>\n",
       "      <td>0.523599</td>\n",
       "      <td>27</td>\n",
       "      <td>27</td>\n",
       "      <td>27</td>\n",
       "      <td>27.000000</td>\n",
       "      <td>0.652704</td>\n",
       "      <td>0.000016</td>\n",
       "    </tr>\n",
       "    <tr>\n",
       "      <th>3</th>\n",
       "      <td>0.698132</td>\n",
       "      <td>29</td>\n",
       "      <td>30</td>\n",
       "      <td>29</td>\n",
       "      <td>29.333333</td>\n",
       "      <td>0.742227</td>\n",
       "      <td>0.000018</td>\n",
       "    </tr>\n",
       "    <tr>\n",
       "      <th>4</th>\n",
       "      <td>0.872665</td>\n",
       "      <td>33</td>\n",
       "      <td>31</td>\n",
       "      <td>31</td>\n",
       "      <td>31.666667</td>\n",
       "      <td>0.815207</td>\n",
       "      <td>0.000019</td>\n",
       "    </tr>\n",
       "    <tr>\n",
       "      <th>5</th>\n",
       "      <td>1.047198</td>\n",
       "      <td>34</td>\n",
       "      <td>34</td>\n",
       "      <td>34</td>\n",
       "      <td>34.000000</td>\n",
       "      <td>0.879385</td>\n",
       "      <td>0.000020</td>\n",
       "    </tr>\n",
       "    <tr>\n",
       "      <th>6</th>\n",
       "      <td>1.221730</td>\n",
       "      <td>36</td>\n",
       "      <td>36</td>\n",
       "      <td>37</td>\n",
       "      <td>36.333333</td>\n",
       "      <td>0.939693</td>\n",
       "      <td>0.000022</td>\n",
       "    </tr>\n",
       "    <tr>\n",
       "      <th>7</th>\n",
       "      <td>1.396263</td>\n",
       "      <td>37</td>\n",
       "      <td>37</td>\n",
       "      <td>38</td>\n",
       "      <td>37.333333</td>\n",
       "      <td>1.000000</td>\n",
       "      <td>0.000022</td>\n",
       "    </tr>\n",
       "    <tr>\n",
       "      <th>8</th>\n",
       "      <td>1.570796</td>\n",
       "      <td>39</td>\n",
       "      <td>39</td>\n",
       "      <td>39</td>\n",
       "      <td>39.000000</td>\n",
       "      <td>1.064178</td>\n",
       "      <td>0.000023</td>\n",
       "    </tr>\n",
       "    <tr>\n",
       "      <th>9</th>\n",
       "      <td>1.745329</td>\n",
       "      <td>41</td>\n",
       "      <td>41</td>\n",
       "      <td>42</td>\n",
       "      <td>41.333333</td>\n",
       "      <td>1.137158</td>\n",
       "      <td>0.000025</td>\n",
       "    </tr>\n",
       "    <tr>\n",
       "      <th>10</th>\n",
       "      <td>1.919862</td>\n",
       "      <td>43</td>\n",
       "      <td>43</td>\n",
       "      <td>44</td>\n",
       "      <td>43.333333</td>\n",
       "      <td>1.226682</td>\n",
       "      <td>0.000026</td>\n",
       "    </tr>\n",
       "    <tr>\n",
       "      <th>11</th>\n",
       "      <td>2.094395</td>\n",
       "      <td>46</td>\n",
       "      <td>46</td>\n",
       "      <td>46</td>\n",
       "      <td>46.000000</td>\n",
       "      <td>1.347296</td>\n",
       "      <td>0.000028</td>\n",
       "    </tr>\n",
       "    <tr>\n",
       "      <th>12</th>\n",
       "      <td>2.268928</td>\n",
       "      <td>48</td>\n",
       "      <td>48</td>\n",
       "      <td>47</td>\n",
       "      <td>47.666667</td>\n",
       "      <td>1.532089</td>\n",
       "      <td>0.000029</td>\n",
       "    </tr>\n",
       "    <tr>\n",
       "      <th>13</th>\n",
       "      <td>2.443461</td>\n",
       "      <td>51</td>\n",
       "      <td>51</td>\n",
       "      <td>52</td>\n",
       "      <td>51.333333</td>\n",
       "      <td>1.879385</td>\n",
       "      <td>0.000031</td>\n",
       "    </tr>\n",
       "  </tbody>\n",
       "</table>\n",
       "</div>"
      ],
      "text/plain": [
       "     delta_a  I1  I2  I3     I_mean     gamma       B_c\n",
       "0   0.174533  14  14  13  13.666667  0.347296  0.000008\n",
       "1   0.349066  23  22  22  22.333333  0.532089  0.000013\n",
       "2   0.523599  27  27  27  27.000000  0.652704  0.000016\n",
       "3   0.698132  29  30  29  29.333333  0.742227  0.000018\n",
       "4   0.872665  33  31  31  31.666667  0.815207  0.000019\n",
       "5   1.047198  34  34  34  34.000000  0.879385  0.000020\n",
       "6   1.221730  36  36  37  36.333333  0.939693  0.000022\n",
       "7   1.396263  37  37  38  37.333333  1.000000  0.000022\n",
       "8   1.570796  39  39  39  39.000000  1.064178  0.000023\n",
       "9   1.745329  41  41  42  41.333333  1.137158  0.000025\n",
       "10  1.919862  43  43  44  43.333333  1.226682  0.000026\n",
       "11  2.094395  46  46  46  46.000000  1.347296  0.000028\n",
       "12  2.268928  48  48  47  47.666667  1.532089  0.000029\n",
       "13  2.443461  51  51  52  51.333333  1.879385  0.000031"
      ]
     },
     "execution_count": 134,
     "metadata": {},
     "output_type": "execute_result"
    }
   ],
   "source": [
    "df"
   ]
  },
  {
   "cell_type": "code",
   "execution_count": 135,
   "metadata": {},
   "outputs": [],
   "source": [
    "reg = LinearRegression().fit(df[\"gamma\"].to_numpy().reshape(-1, 1), df[\"B_c\"].to_numpy())\n",
    "slope1, intercept1 = reg.coef_[0], reg.intercept_\n",
    "\n",
    "reg = linregress(df[\"gamma\"], df[\"B_c\"])"
   ]
  },
  {
   "cell_type": "code",
   "execution_count": 136,
   "metadata": {},
   "outputs": [
    {
     "data": {
      "text/plain": [
       "14.772030799527904"
      ]
     },
     "execution_count": 136,
     "metadata": {},
     "output_type": "execute_result"
    }
   ],
   "source": [
    "slope1 * 10 ** 6"
   ]
  },
  {
   "cell_type": "code",
   "execution_count": 137,
   "metadata": {},
   "outputs": [
    {
     "data": {
      "text/plain": [
       "<matplotlib.legend.Legend at 0x243abee73d0>"
      ]
     },
     "execution_count": 137,
     "metadata": {},
     "output_type": "execute_result"
    },
    {
     "data": {
      "image/png": "[encoded data removed]",
      "text/plain": [
       "<Figure size 1500x1000 with 1 Axes>"
      ]
     },
     "metadata": {},
     "output_type": "display_data"
    }
   ],
   "source": [
    "figure, axes = plt.subplots(figsize=(15, 10))\n",
    "axes.set_xticks(np.arange(0, df[\"gamma\"].max() + 0.1, 0.1))\n",
    "axes.set_yticks(np.arange(0, df[\"B_c\"].max() * 10 ** 6 + 2, 2))\n",
    "axes.set_axisbelow(True)\n",
    "axes.set_ylabel(r\"$B_c$, \" + \"мкТл\")\n",
    "axes.set_xlabel(r\"$\\gamma$\")\n",
    "\n",
    "axes.scatter(df[\"gamma\"], df[\"B_c\"] * 10 ** 6, label=r\"$(\\gamma; B_c)$\", color=\"blue\")\n",
    "\n",
    "X_values = np.arange(df[\"gamma\"].min(), df[\"gamma\"].max(), 0.01)\n",
    "Y_values = slope1 * 10 ** 6 * X_values + intercept1 * 10 ** 6\n",
    "\n",
    "axes.plot(X_values, Y_values, color=\"red\", label=r\"$B_c(\\gamma)=B_h\\cdot \\gamma + B_0$\")\n",
    "\n",
    "axes.grid()\n",
    "axes.legend(fontsize=\"large\")"
   ]
  },
  {
   "cell_type": "markdown",
   "metadata": {},
   "source": [
    "### Погрешности"
   ]
  },
  {
   "cell_type": "code",
   "execution_count": 149,
   "metadata": {},
   "outputs": [],
   "source": [
    "reg = linregress(df[\"gamma\"], df[\"B_c\"])\n",
    "slope = reg.slope\n",
    "intercept = reg.intercept\n",
    "\n",
    "n = len(df[\"B_c\"])\n",
    "di = df[\"B_c\"].to_numpy() - (intercept + slope * df[\"gamma\"])\n",
    "D = np.sum((df[\"gamma\"] - df[\"gamma\"].mean()) ** 2)\n",
    "Sb2 = np.sum(di ** 2) / (D * (n - 2))\n",
    "Sa2 = np.sum(di ** 2) / (n - 2) * (1 / n + df[\"B_c\"].mean() ** 2 / D)\n",
    "delta_B = 2 * np.sqrt(Sb2)"
   ]
  },
  {
   "cell_type": "code",
   "execution_count": 158,
   "metadata": {},
   "outputs": [
    {
     "data": {
      "text/plain": [
       "2.3757768186241334e-06"
      ]
     },
     "execution_count": 158,
     "metadata": {},
     "output_type": "execute_result"
    }
   ],
   "source": [
    "delta_B"
   ]
  },
  {
   "cell_type": "code",
   "execution_count": 148,
   "metadata": {},
   "outputs": [
    {
     "data": {
      "text/plain": [
       "1.1878884093120618e-06"
      ]
     },
     "execution_count": 148,
     "metadata": {},
     "output_type": "execute_result"
    }
   ],
   "source": [
    "linregress(df[\"gamma\"], df[\"B_c\"]).stderr"
   ]
  },
  {
   "cell_type": "markdown",
   "metadata": {},
   "source": [
    "### Сохранение данных"
   ]
  },
  {
   "cell_type": "code",
   "execution_count": 123,
   "metadata": {},
   "outputs": [],
   "source": [
    "df[\"delta_a\"] = df2[\"delta_a\"]"
   ]
  },
  {
   "cell_type": "code",
   "execution_count": 128,
   "metadata": {},
   "outputs": [],
   "source": [
    "df[\"I1\"] = df[\"I1\"].astype(float)\n",
    "df[\"I2\"] = df[\"I2\"].astype(float)\n",
    "df[\"I3\"] = df[\"I3\"].astype(float)\n",
    "df[\"I_mean\"] = round(df[\"I_mean\"], 1)\n",
    "df[\"gamma\"] = round(df[\"gamma\"], 2)\n",
    "df[\"B_c\"] = round(df[\"B_c\"], 2)"
   ]
  },
  {
   "cell_type": "code",
   "execution_count": 130,
   "metadata": {},
   "outputs": [],
   "source": [
    "df.to_csv(\"output.csv\", index=False)"
   ]
  },
  {
   "cell_type": "code",
   "execution_count": null,
   "metadata": {},
   "outputs": [],
   "source": []
  }
 ],
 "metadata": {
  "kernelspec": {
   "display_name": "Python 3",
   "language": "python",
   "name": "python3"
  },
  "language_info": {
   "codemirror_mode": {
    "name": "ipython",
    "version": 3
   },
   "file_extension": ".py",
   "mimetype": "text/x-python",
   "name": "python",
   "nbconvert_exporter": "python",
   "pygments_lexer": "ipython3",
   "version": "3.11.4"
  }
 },
 "nbformat": 4,
 "nbformat_minor": 2
}
