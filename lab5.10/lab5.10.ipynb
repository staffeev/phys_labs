{
 "cells": [
  {
   "cell_type": "code",
   "execution_count": 1,
   "id": "471a9af8",
   "metadata": {},
   "outputs": [],
   "source": [
    "import numpy as np"
   ]
  },
  {
   "cell_type": "code",
   "execution_count": 2,
   "id": "8bad6852",
   "metadata": {},
   "outputs": [
    {
     "data": {
      "text/plain": [
       "(array([22, 32, 31]), array([11, 29, 41]))"
      ]
     },
     "execution_count": 2,
     "metadata": {},
     "output_type": "execute_result"
    }
   ],
   "source": [
    "n = 3\n",
    "ma = np.array([0, 22, 54, 85])\n",
    "mi = np.array([0, 11, 40, 81])\n",
    "d_ma = ma[1:] - ma[:-1]\n",
    "d_mi = mi[1:] - mi[:-1]\n",
    "d_ma, d_mi"
   ]
  },
  {
   "cell_type": "code",
   "execution_count": 3,
   "id": "f1116eaa",
   "metadata": {},
   "outputs": [
    {
     "data": {
      "text/plain": [
       "(28.333333333333332, 27.0)"
      ]
     },
     "execution_count": 3,
     "metadata": {},
     "output_type": "execute_result"
    }
   ],
   "source": [
    "E1 = d_ma.mean()\n",
    "E2 = d_mi.mean()\n",
    "E1, E2"
   ]
  },
  {
   "cell_type": "code",
   "execution_count": 4,
   "id": "7787c812",
   "metadata": {},
   "outputs": [
    {
     "data": {
      "text/plain": [
       "3.1797973380564852"
      ]
     },
     "execution_count": 4,
     "metadata": {},
     "output_type": "execute_result"
    }
   ],
   "source": [
    "d_E1 = np.sqrt(d_ma.var() / (n - 1))\n",
    "d_E1"
   ]
  },
  {
   "cell_type": "code",
   "execution_count": 5,
   "id": "98498e4a",
   "metadata": {},
   "outputs": [
    {
     "data": {
      "text/plain": [
       "8.717797887081348"
      ]
     },
     "execution_count": 5,
     "metadata": {},
     "output_type": "execute_result"
    }
   ],
   "source": [
    "d_E2 = np.sqrt(d_mi.var() / (n - 1))\n",
    "d_E2"
   ]
  },
  {
   "cell_type": "code",
   "execution_count": null,
   "id": "c1b841dc",
   "metadata": {},
   "outputs": [],
   "source": []
  }
 ],
 "metadata": {
  "kernelspec": {
   "display_name": "Python 3",
   "language": "python",
   "name": "python3"
  },
  "language_info": {
   "codemirror_mode": {
    "name": "ipython",
    "version": 3
   },
   "file_extension": ".py",
   "mimetype": "text/x-python",
   "name": "python",
   "nbconvert_exporter": "python",
   "pygments_lexer": "ipython3",
   "version": "3.11.4"
  }
 },
 "nbformat": 4,
 "nbformat_minor": 5
}
